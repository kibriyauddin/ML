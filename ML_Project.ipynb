{
 "cells": [
  {
   "cell_type": "code",
   "execution_count": 2,
   "id": "3b82460c-ce96-47f5-af44-ec1d14295e09",
   "metadata": {},
   "outputs": [],
   "source": [
    "#pip install googletrans==4.0.0-rc1"
   ]
  },
  {
   "cell_type": "code",
   "execution_count": 18,
   "id": "57c511bb-c2a2-47f7-8255-5e100806fd44",
   "metadata": {},
   "outputs": [],
   "source": [
    "from tkinter import *\n",
    "from tkinter import ttk\n",
    "from googletrans import Translator,LANGUAGES"
   ]
  },
  {
   "cell_type": "markdown",
   "id": "4a98a503",
   "metadata": {},
   "source": []
  },
  {
   "cell_type": "code",
   "execution_count": 19,
   "id": "c0c123aa-d68e-4d60-83d5-1cffde3bcdbd",
   "metadata": {},
   "outputs": [],
   "source": [
    "root = Tk()\n",
    "root.geometry('1000x320')\n",
    "root.resizable(0,0)\n",
    "root['bg']= 'violet'\n",
    "\n",
    "root.title('Language translator by SImplilearn')\n",
    "Label(root, text = \"Language Translator\", font = \"Arial 20 bold\").pack()\n",
    "#root,mainloop()"
   ]
  },
  {
   "cell_type": "code",
   "execution_count": 20,
   "id": "2dde2978-050d-4888-9e3b-5283370a3d15",
   "metadata": {},
   "outputs": [],
   "source": [
    "Label(root,text = \"Enter Text\", font = 'arial 13 bold', bg ='white smoke').place(x=165, y=90)\n",
    "#root.mainloop()"
   ]
  },
  {
   "cell_type": "code",
   "execution_count": 21,
   "id": "676b6389-6e40-4bd6-a8ba-3932fe1ec191",
   "metadata": {},
   "outputs": [
    {
     "data": {
      "text/plain": [
       "''"
      ]
     },
     "execution_count": 21,
     "metadata": {},
     "output_type": "execute_result"
    }
   ],
   "source": [
    "Input_text = Entry(root, width= 60)\n",
    "Input_text.place(x=30,y = 130)\n",
    "Input_text.get()\n",
    "#root.mainloop()"
   ]
  },
  {
   "cell_type": "code",
   "execution_count": 22,
   "id": "37a20f7d",
   "metadata": {},
   "outputs": [],
   "source": [
    "Label(root, text = \"Output\", font = 'arial 13 bold', bg = 'white smoke').place(x= 780,y = 90)\n",
    "Output_text = Text(root, font = 'arial 10', height = 11, wrap = WORD, padx= 5, pady= 5, width= 50)\n",
    "Output_text.place(x= 600,y = 130)\n",
    "\n",
    "language = list(LANGUAGES.values())\n",
    "\n",
    "dest_lang= ttk.Combobox(root, values= language, width=22)\n",
    "dest_lang.place(x=130, y=180)\n",
    "dest_lang.set('choose language')\n",
    "\n",
    "def Translate():\n",
    "    translator = Translator()\n",
    "    translated= translator.translate(text=Input_text.get(), dest = dest_lang.get())\n",
    "    Output_text.delete(1.0,END)\n",
    "    Output_text.insert(END,translated.text)\n",
    "    \n",
    "trans_btn= Button(root, text='Translate', font= 'arial 12 bold', pady = 5, command= Translate, bg='orange',activebackground='green')\n",
    "trans_btn.place(x= 445, y=180)\n",
    "\n",
    "root.mainloop()\n"
   ]
  }
 ],
 "metadata": {
  "kernelspec": {
   "display_name": "Python 3 (ipykernel)",
   "language": "python",
   "name": "python3"
  },
  "language_info": {
   "codemirror_mode": {
    "name": "ipython",
    "version": 3
   },
   "file_extension": ".py",
   "mimetype": "text/x-python",
   "name": "python",
   "nbconvert_exporter": "python",
   "pygments_lexer": "ipython3",
   "version": "3.11.8"
  }
 },
 "nbformat": 4,
 "nbformat_minor": 5
}
